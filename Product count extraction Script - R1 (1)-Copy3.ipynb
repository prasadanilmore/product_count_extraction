{
 "cells": [
  {
   "cell_type": "code",
   "execution_count": null,
   "id": "02b4318e",
   "metadata": {},
   "outputs": [],
   "source": [
    "! pip install selenium "
   ]
  },
  {
   "cell_type": "code",
   "execution_count": null,
   "id": "0f050fdb",
   "metadata": {},
   "outputs": [],
   "source": [
    "! pip install beautifulsoup4"
   ]
  },
  {
   "cell_type": "code",
   "execution_count": null,
   "id": "344da92b",
   "metadata": {},
   "outputs": [],
   "source": [
    "! pip install pandas\n"
   ]
  },
  {
   "cell_type": "code",
   "execution_count": 23,
   "id": "696ebdf5",
   "metadata": {},
   "outputs": [
    {
     "name": "stdout",
     "output_type": "stream",
     "text": [
      "Collecting webdriver-manager\n",
      "  Downloading webdriver_manager-3.5.4-py2.py3-none-any.whl (18 kB)\n",
      "Requirement already satisfied: requests in c:\\programdata\\anaconda3\\lib\\site-packages (from webdriver-manager) (2.26.0)\n",
      "Requirement already satisfied: charset-normalizer~=2.0.0 in c:\\programdata\\anaconda3\\lib\\site-packages (from requests->webdriver-manager) (2.0.4)\n",
      "Requirement already satisfied: urllib3<1.27,>=1.21.1 in c:\\programdata\\anaconda3\\lib\\site-packages (from requests->webdriver-manager) (1.26.7)\n",
      "Requirement already satisfied: certifi>=2017.4.17 in c:\\programdata\\anaconda3\\lib\\site-packages (from requests->webdriver-manager) (2021.10.8)\n",
      "Requirement already satisfied: idna<4,>=2.5 in c:\\programdata\\anaconda3\\lib\\site-packages (from requests->webdriver-manager) (3.2)\n",
      "Installing collected packages: webdriver-manager\n",
      "Successfully installed webdriver-manager-3.5.4\n"
     ]
    }
   ],
   "source": [
    "! pip3 install webdriver-manager"
   ]
  },
  {
   "cell_type": "code",
   "execution_count": 28,
   "id": "f3618aeb",
   "metadata": {},
   "outputs": [],
   "source": [
    "# Import Local Modules\n",
    "\n",
    "from selenium import webdriver\n",
    "from bs4 import BeautifulSoup\n",
    "from selenium.webdriver.chrome.service import Service\n",
    "from webdriver_manager.chrome import ChromeDriverManager\n",
    "import requests\n",
    "import time\n",
    "import re\n",
    "import datetime\n",
    "import pandas as pd\n",
    "import os\n",
    "from datetime import date"
   ]
  },
  {
   "cell_type": "code",
   "execution_count": 14,
   "id": "e03357ba",
   "metadata": {},
   "outputs": [
    {
     "data": {
      "text/plain": [
       "'C:\\\\learnings\\\\Jupyter Path'"
      ]
     },
     "execution_count": 14,
     "metadata": {},
     "output_type": "execute_result"
    }
   ],
   "source": [
    "# Changing path of the working directory\n",
    "os.chdir(\"C:\\learnings\\Jupyter Path\")   # Replace your desired path in-place of mentioned path\n",
    "\n",
    "# Check current working directory\n",
    "os.getcwd()"
   ]
  },
  {
   "cell_type": "code",
   "execution_count": 29,
   "id": "420a2406",
   "metadata": {},
   "outputs": [],
   "source": [
    "# Converting Excel into Pandas Dataframe\n",
    "read_excel = pd.read_excel(\"Test_Link_check.xlsx\", sheet_name = 0 ,skiprows = 561, header = None, index_col = None)\n",
    "df = pd.DataFrame(data = read_excel)\n",
    "\n",
    "#Get today's date\n",
    "today_date = datetime.date.today()\n"
   ]
  },
  {
   "cell_type": "code",
   "execution_count": 30,
   "id": "993b6aa0",
   "metadata": {},
   "outputs": [
    {
     "name": "stderr",
     "output_type": "stream",
     "text": [
      "\n",
      "\n",
      "====== WebDriver manager ======\n",
      "Current google-chrome version is 100.0.4896\n",
      "Get LATEST chromedriver version for 100.0.4896 google-chrome\n",
      "Driver [C:\\Users\\prasad.more\\.wdm\\drivers\\chromedriver\\win32\\100.0.4896.60\\chromedriver.exe] found in cache\n"
     ]
    }
   ],
   "source": [
    "\"\"\"Defining the Function\"\"\"\n",
    "\n",
    "# Creating a Headless browser\n",
    "option = webdriver.ChromeOptions()\n",
    "option.headless = True\n",
    "service = Service(ChromeDriverManager().install())\n",
    "\n",
    "def extract_product_count(url:str) -> list:\n",
    "    \"\"\"This function will extract product-counts from the websites mentioned in the Input Csv\n",
    "   \n",
    "    Argument: \n",
    "       url: str content\n",
    "       \n",
    "    Return:\n",
    "        response: list\n",
    "    \n",
    "    \"\"\"\n",
    "    \n",
    "    # Instance of webdrive (Interface of browser that enables controls of browsers)\n",
    "    \n",
    "    driver = webdriver.Chrome(service=service, options= option)\n",
    "    \n",
    "    driver.get(url)\n",
    "    \n",
    "    # Stabilize the webpage\n",
    "    time.sleep(6)    \n",
    "    page = driver.page_source\n",
    "        \n",
    "    # Exiting the webdriver\n",
    "    driver.quit() \n",
    "    \n",
    "    # Get the website's Static HTML DOM \n",
    "    soup = BeautifulSoup(page, 'html.parser')\n",
    "        \n",
    "    # Find the product count in the HTML DOM through X-path\n",
    "    get_text = soup.find('span', {'class':\"header-product-count\"})\n",
    "        \n",
    "    # Check if Product count available on website\n",
    "    \n",
    "    if get_text is None:\n",
    "        return [url, \"Count Not Available on Website\"]\n",
    "    \n",
    "    response = get_text.text\n",
    "        \n",
    "    # Remove parenthesis\n",
    "    trimed_response = re.sub(r'[()]',\"\",response) \n",
    "\n",
    "    # Convert the count into number and trim whitespaces\n",
    "    final_output = int(trimed_response.strip())\n",
    "\n",
    "    # Return urls and product count in list format\n",
    "    return [url, final_output]\n"
   ]
  },
  {
   "cell_type": "code",
   "execution_count": 31,
   "id": "b4eea9cf",
   "metadata": {},
   "outputs": [
    {
     "name": "stdout",
     "output_type": "stream",
     "text": [
      "[['https://www.landsend.com/shop/-/S-xez-y5c-xec', 2421]]\n"
     ]
    }
   ],
   "source": [
    "# Empty array to store data\n",
    "data = []\n",
    "\n",
    "for i in df.index:\n",
    "    \"\"\"Iteration through working Urls and storing product counts of each\"\"\"\n",
    "    \n",
    "    url = df[0][i]\n",
    "    response = requests.get(url)\n",
    "        \n",
    "    # Check the status of response\n",
    "    if response.status_code == 200 or 201:     \n",
    "        product_count = extract_product_count(url)\n",
    "            \n",
    "        # Append output in list\n",
    "        data.append(product_count)\n",
    "      \n",
    "            \n",
    "    else: \n",
    "        # If status is 404 forbidden\n",
    "        product_count = \"Could not extract product count . Page Status: {}\".format(response.status.code) \n",
    "        data.append(product_count)\n",
    "print(data)"
   ]
  },
  {
   "cell_type": "code",
   "execution_count": 7,
   "id": "b3ddf151",
   "metadata": {},
   "outputs": [
    {
     "data": {
      "text/plain": [
       "'Check a excel file named \"Product_Count\" generated in your working directory'"
      ]
     },
     "execution_count": 7,
     "metadata": {},
     "output_type": "execute_result"
    }
   ],
   "source": [
    "# Creating a Dataframe to structure data\n",
    "dataframe = pd.DataFrame(data = data, columns = [\"Urls\", \"Product Count\"])\n",
    "\n",
    "# Convert the output to excel\n",
    "dataframe.to_excel(\"Product_Count_{}.xlsx\".format(today_date), sheet_name = \"Data\" )\n",
    "\n",
    "\"\"\"Check a excel file named \"Product_Count_Date\" generated in your working directory\"\"\""
   ]
  },
  {
   "cell_type": "code",
   "execution_count": 13,
   "id": "6c1ff9f8",
   "metadata": {},
   "outputs": [
    {
     "name": "stderr",
     "output_type": "stream",
     "text": [
      "Everything up-to-date\n"
     ]
    }
   ],
   "source": [
    "#Done1"
   ]
  },
  {
   "cell_type": "code",
   "execution_count": 3,
   "id": "d6d98b9b",
   "metadata": {
    "scrolled": true
   },
   "outputs": [
    {
     "name": "stderr",
     "output_type": "stream",
     "text": [
      "To https://github.com/prasadanilmore/product_count_extraction.git\n",
      "   44f4df2..e760150  main -> main\n"
     ]
    }
   ],
   "source": [
    "! git push origin main"
   ]
  },
  {
   "cell_type": "code",
   "execution_count": 10,
   "id": "80cc6e61",
   "metadata": {},
   "outputs": [
    {
     "data": {
      "text/html": [
       "<div>\n",
       "<style scoped>\n",
       "    .dataframe tbody tr th:only-of-type {\n",
       "        vertical-align: middle;\n",
       "    }\n",
       "\n",
       "    .dataframe tbody tr th {\n",
       "        vertical-align: top;\n",
       "    }\n",
       "\n",
       "    .dataframe thead th {\n",
       "        text-align: right;\n",
       "    }\n",
       "</style>\n",
       "<table border=\"1\" class=\"dataframe\">\n",
       "  <thead>\n",
       "    <tr style=\"text-align: right;\">\n",
       "      <th></th>\n",
       "      <th>A</th>\n",
       "      <th>B</th>\n",
       "      <th>C</th>\n",
       "    </tr>\n",
       "  </thead>\n",
       "  <tbody>\n",
       "    <tr>\n",
       "      <th>0</th>\n",
       "      <td>1</td>\n",
       "      <td>4</td>\n",
       "      <td>7</td>\n",
       "    </tr>\n",
       "    <tr>\n",
       "      <th>1</th>\n",
       "      <td>2</td>\n",
       "      <td>5</td>\n",
       "      <td>8</td>\n",
       "    </tr>\n",
       "    <tr>\n",
       "      <th>2</th>\n",
       "      <td>3</td>\n",
       "      <td>6</td>\n",
       "      <td>9</td>\n",
       "    </tr>\n",
       "  </tbody>\n",
       "</table>\n",
       "</div>"
      ],
      "text/plain": [
       "   A  B  C\n",
       "0  1  4  7\n",
       "1  2  5  8\n",
       "2  3  6  9"
      ]
     },
     "execution_count": 10,
     "metadata": {},
     "output_type": "execute_result"
    }
   ],
   "source": [
    "data1 = pd.DataFrame( data = [[1,4,7],[2,5,8],[3,6,9]] , columns = [\"A\", \"B\", \"C\"] )\n",
    "data1"
   ]
  },
  {
   "cell_type": "code",
   "execution_count": 12,
   "id": "f810d8b9",
   "metadata": {},
   "outputs": [
    {
     "data": {
      "text/html": [
       "<div>\n",
       "<style scoped>\n",
       "    .dataframe tbody tr th:only-of-type {\n",
       "        vertical-align: middle;\n",
       "    }\n",
       "\n",
       "    .dataframe tbody tr th {\n",
       "        vertical-align: top;\n",
       "    }\n",
       "\n",
       "    .dataframe thead th {\n",
       "        text-align: right;\n",
       "    }\n",
       "</style>\n",
       "<table border=\"1\" class=\"dataframe\">\n",
       "  <thead>\n",
       "    <tr style=\"text-align: right;\">\n",
       "      <th></th>\n",
       "      <th>A</th>\n",
       "      <th>B</th>\n",
       "      <th>C</th>\n",
       "      <th>D</th>\n",
       "    </tr>\n",
       "  </thead>\n",
       "  <tbody>\n",
       "    <tr>\n",
       "      <th>0</th>\n",
       "      <td>1</td>\n",
       "      <td>4</td>\n",
       "      <td>7</td>\n",
       "      <td>10</td>\n",
       "    </tr>\n",
       "    <tr>\n",
       "      <th>1</th>\n",
       "      <td>2</td>\n",
       "      <td>5</td>\n",
       "      <td>8</td>\n",
       "      <td>11</td>\n",
       "    </tr>\n",
       "    <tr>\n",
       "      <th>2</th>\n",
       "      <td>3</td>\n",
       "      <td>6</td>\n",
       "      <td>9</td>\n",
       "      <td>12</td>\n",
       "    </tr>\n",
       "  </tbody>\n",
       "</table>\n",
       "</div>"
      ],
      "text/plain": [
       "   A  B  C   D\n",
       "0  1  4  7  10\n",
       "1  2  5  8  11\n",
       "2  3  6  9  12"
      ]
     },
     "execution_count": 12,
     "metadata": {},
     "output_type": "execute_result"
    }
   ],
   "source": [
    "data1[\"D\"] = [10,11,12]\n",
    "data1"
   ]
  },
  {
   "cell_type": "code",
   "execution_count": 19,
   "id": "f862a739",
   "metadata": {},
   "outputs": [],
   "source": [
    "data1.insert(4, \"E\", [13,14,15])"
   ]
  },
  {
   "cell_type": "code",
   "execution_count": 20,
   "id": "d134ca36",
   "metadata": {},
   "outputs": [
    {
     "data": {
      "text/html": [
       "<div>\n",
       "<style scoped>\n",
       "    .dataframe tbody tr th:only-of-type {\n",
       "        vertical-align: middle;\n",
       "    }\n",
       "\n",
       "    .dataframe tbody tr th {\n",
       "        vertical-align: top;\n",
       "    }\n",
       "\n",
       "    .dataframe thead th {\n",
       "        text-align: right;\n",
       "    }\n",
       "</style>\n",
       "<table border=\"1\" class=\"dataframe\">\n",
       "  <thead>\n",
       "    <tr style=\"text-align: right;\">\n",
       "      <th></th>\n",
       "      <th>A</th>\n",
       "      <th>B</th>\n",
       "      <th>C</th>\n",
       "      <th>D</th>\n",
       "      <th>E</th>\n",
       "    </tr>\n",
       "  </thead>\n",
       "  <tbody>\n",
       "    <tr>\n",
       "      <th>0</th>\n",
       "      <td>1</td>\n",
       "      <td>4</td>\n",
       "      <td>7</td>\n",
       "      <td>10</td>\n",
       "      <td>13</td>\n",
       "    </tr>\n",
       "    <tr>\n",
       "      <th>1</th>\n",
       "      <td>2</td>\n",
       "      <td>5</td>\n",
       "      <td>8</td>\n",
       "      <td>11</td>\n",
       "      <td>14</td>\n",
       "    </tr>\n",
       "    <tr>\n",
       "      <th>2</th>\n",
       "      <td>3</td>\n",
       "      <td>6</td>\n",
       "      <td>9</td>\n",
       "      <td>12</td>\n",
       "      <td>15</td>\n",
       "    </tr>\n",
       "  </tbody>\n",
       "</table>\n",
       "</div>"
      ],
      "text/plain": [
       "   A  B  C   D   E\n",
       "0  1  4  7  10  13\n",
       "1  2  5  8  11  14\n",
       "2  3  6  9  12  15"
      ]
     },
     "execution_count": 20,
     "metadata": {},
     "output_type": "execute_result"
    }
   ],
   "source": [
    "data1"
   ]
  },
  {
   "cell_type": "code",
   "execution_count": null,
   "id": "0851161c",
   "metadata": {},
   "outputs": [],
   "source": []
  }
 ],
 "metadata": {
  "kernelspec": {
   "display_name": "Python 3 (ipykernel)",
   "language": "python",
   "name": "python3"
  },
  "language_info": {
   "codemirror_mode": {
    "name": "ipython",
    "version": 3
   },
   "file_extension": ".py",
   "mimetype": "text/x-python",
   "name": "python",
   "nbconvert_exporter": "python",
   "pygments_lexer": "ipython3",
   "version": "3.9.7"
  }
 },
 "nbformat": 4,
 "nbformat_minor": 5
}
