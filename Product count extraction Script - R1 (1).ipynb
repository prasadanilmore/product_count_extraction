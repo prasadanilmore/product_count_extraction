{
 "cells": [
  {
   "cell_type": "code",
   "execution_count": null,
   "id": "02b4318e",
   "metadata": {},
   "outputs": [],
   "source": [
    "! pip install selenium "
   ]
  },
  {
   "cell_type": "code",
   "execution_count": null,
   "id": "0f050fdb",
   "metadata": {},
   "outputs": [],
   "source": [
    "! pip install beautifulsoup4"
   ]
  },
  {
   "cell_type": "code",
   "execution_count": null,
   "id": "344da92b",
   "metadata": {},
   "outputs": [],
   "source": [
    "! pip install pandas"
   ]
  },
  {
   "cell_type": "code",
   "execution_count": 4,
   "id": "f3618aeb",
   "metadata": {},
   "outputs": [],
   "source": [
    "# Import Local Modules\n",
    "\n",
    "from selenium import webdriver\n",
    "from bs4 import BeautifulSoup\n",
    "from selenium.webdriver.common.keys import Keys ### Unused\n",
    "import requests\n",
    "import time\n",
    "import re\n",
    "import pandas as pd\n",
    "import os\n",
    "from datetime import date"
   ]
  },
  {
   "cell_type": "code",
   "execution_count": 5,
   "id": "e03357ba",
   "metadata": {},
   "outputs": [
    {
     "data": {
      "text/plain": [
       "'C:\\\\learnings\\\\Jupyter Path'"
      ]
     },
     "execution_count": 5,
     "metadata": {},
     "output_type": "execute_result"
    }
   ],
   "source": [
    "# Changing path of the working directory\n",
    "os.chdir(\"C:\\learnings\\Jupyter Path\")   # Replace your desired path in-place of mentioned path\n",
    "\n",
    "# Check current working directory\n",
    "os.getcwd()"
   ]
  },
  {
   "cell_type": "code",
   "execution_count": 6,
   "id": "420a2406",
   "metadata": {},
   "outputs": [],
   "source": [
    "# Converting Excel into Pandas Dataframe\n",
    "read_excel = pd.read_excel(\"Test_Link_check.xlsx\", sheet_name = 0 ,header = None, index_col = None)\n",
    "df = pd.DataFrame(data = read_excel)\n"
   ]
  },
  {
   "cell_type": "code",
   "execution_count": 7,
   "id": "993b6aa0",
   "metadata": {},
   "outputs": [],
   "source": [
    "\"\"\"Defining the Function\"\"\"\n",
    "\n",
    "# Creating a Headless browser\n",
    "option = webdriver.ChromeOptions()\n",
    "option.headless = True\n",
    "\n",
    "def extract_product_count(url:str) -> list:\n",
    "    \"\"\"This function will extract product-counts from the websites mentioned in the Input Csv\n",
    "   \n",
    "    Argument: \n",
    "       url: str content\n",
    "       \n",
    "    Return:\n",
    "        response: list\n",
    "    \n",
    "    \"\"\"\n",
    "    \n",
    "    # Instance of webdrive (Interface of browser that enables controls of browsers)\n",
    "    \n",
    "    driver = webdriver.Chrome(\"C:\\learnings\\Jupyter Path\\\\chromedriver.exe\", options= option)\n",
    "    \n",
    "    driver.get(url)   \n",
    "        \n",
    "    # Stabilize the webpage\n",
    "    time.sleep(6)    \n",
    "    page = driver.page_source\n",
    "        \n",
    "    # Exiting the webdriver\n",
    "    driver.quit() \n",
    "        \n",
    "    # Get the website's Static HTML DOM \n",
    "    soup = BeautifulSoup(page, 'html.parser')\n",
    "        \n",
    "    # Find the product count in the HTML DOM through X-path\n",
    "    get_text = soup.find('span', {'class':\"header-product-count\"})\n",
    "        \n",
    "    # Check if Product count available on website\n",
    "    \n",
    "    if get_text is None:\n",
    "        return [url, \"Count Not Available on Website\"]\n",
    "    \n",
    "    response = get_text.text\n",
    "        \n",
    "    # Remove parenthesis\n",
    "    trimed_response = re.sub(r'[()]',\"\",response) \n",
    "\n",
    "    # Convert the count into number and trim whitespaces\n",
    "    final_output = int(trimed_response.strip())\n",
    "\n",
    "    # Return urls and product count in list format\n",
    "    return [url, final_output]\n"
   ]
  },
  {
   "cell_type": "code",
   "execution_count": 6,
   "id": "b4eea9cf",
   "metadata": {},
   "outputs": [
    {
     "name": "stderr",
     "output_type": "stream",
     "text": [
      "C:\\Users\\prasad.more\\AppData\\Local\\Temp\\ipykernel_22424\\3709359442.py:20: DeprecationWarning: executable_path has been deprecated, please pass in a Service object\n",
      "  driver = webdriver.Chrome(\"C:\\learnings\\Jupyter Path\\\\chromedriver.exe\", options= option)\n"
     ]
    }
   ],
   "source": [
    "# Empty array to store data\n",
    "data = []\n",
    "\n",
    "for i in df.index:\n",
    "    \"\"\"Iteration through working Urls and storing product counts of each\"\"\"\n",
    "    \n",
    "    url = df[0][i]\n",
    "    response = requests.get(url)\n",
    "        \n",
    "    # Check the status of response\n",
    "    if response.status_code == 200 or 201:     \n",
    "        product_count = extract_product_count(url)\n",
    "            \n",
    "        # Append output in list\n",
    "        data.append(product_count)\n",
    "            \n",
    "    else: \n",
    "        # If status is 404 forbidden\n",
    "        print(\"Could not extract product count . Page Status: \" + response.status.code)\n"
   ]
  },
  {
   "cell_type": "code",
   "execution_count": null,
   "id": "b3ddf151",
   "metadata": {},
   "outputs": [],
   "source": [
    "# Creating a Dataframe to structure data\n",
    "dataframe = pd.DataFrame(data = data, columns = [\"Urls\", \"Product Count\"])\n",
    "\n",
    "# Convert the output to excel\n",
    "dataframe.to_excel(\"Product_Count.xlsx\", sheet_name = \"Trail Run\" )\n",
    "\n",
    "\"\"\"Check a excel file named \"Product_Count\" generated in your working directory\"\"\""
   ]
  },
  {
   "cell_type": "code",
   "execution_count": null,
   "id": "6c1ff9f8",
   "metadata": {},
   "outputs": [],
   "source": []
  },
  {
   "cell_type": "code",
   "execution_count": null,
   "id": "d6d98b9b",
   "metadata": {},
   "outputs": [],
   "source": []
  },
  {
   "cell_type": "code",
   "execution_count": 11,
   "id": "80cc6e61",
   "metadata": {},
   "outputs": [
    {
     "name": "stderr",
     "output_type": "stream",
     "text": [
      "To https://github.com/prasadanilmore/product_count_extraction.git\n",
      " ! [rejected]        main -> main (fetch first)\n",
      "error: failed to push some refs to 'https://github.com/prasadanilmore/product_count_extraction.git'\n",
      "hint: Updates were rejected because the remote contains work that you do\n",
      "hint: not have locally. This is usually caused by another repository pushing\n",
      "hint: to the same ref. You may want to first integrate the remote changes\n",
      "hint: (e.g., 'git pull ...') before pushing again.\n",
      "hint: See the 'Note about fast-forwards' in 'git push --help' for details.\n"
     ]
    }
   ],
   "source": [
    "!git push origin main"
   ]
  },
  {
   "cell_type": "code",
   "execution_count": null,
   "id": "f810d8b9",
   "metadata": {},
   "outputs": [],
   "source": []
  }
 ],
 "metadata": {
  "kernelspec": {
   "display_name": "Python 3 (ipykernel)",
   "language": "python",
   "name": "python3"
  },
  "language_info": {
   "codemirror_mode": {
    "name": "ipython",
    "version": 3
   },
   "file_extension": ".py",
   "mimetype": "text/x-python",
   "name": "python",
   "nbconvert_exporter": "python",
   "pygments_lexer": "ipython3",
   "version": "3.9.7"
  }
 },
 "nbformat": 4,
 "nbformat_minor": 5
}
