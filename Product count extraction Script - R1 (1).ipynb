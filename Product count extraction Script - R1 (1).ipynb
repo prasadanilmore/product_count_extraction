{
 "cells": [
  {
   "cell_type": "code",
   "execution_count": null,
   "id": "02b4318e",
   "metadata": {},
   "outputs": [],
   "source": [
    "! pip install selenium "
   ]
  },
  {
   "cell_type": "code",
   "execution_count": null,
   "id": "0f050fdb",
   "metadata": {},
   "outputs": [],
   "source": [
    "! pip install beautifulsoup4"
   ]
  },
  {
   "cell_type": "code",
   "execution_count": null,
   "id": "344da92b",
   "metadata": {},
   "outputs": [],
   "source": [
    "! pip install pandas"
   ]
  },
  {
   "cell_type": "code",
   "execution_count": 48,
   "id": "85f14c5a",
   "metadata": {},
   "outputs": [
    {
     "name": "stdout",
     "output_type": "stream",
     "text": [
      "Requirement already satisfied: webdriver-manager in c:\\programdata\\anaconda3\\lib\\site-packages (3.5.4)\n",
      "Requirement already satisfied: requests in c:\\programdata\\anaconda3\\lib\\site-packages (from webdriver-manager) (2.26.0)\n",
      "Requirement already satisfied: charset-normalizer~=2.0.0 in c:\\programdata\\anaconda3\\lib\\site-packages (from requests->webdriver-manager) (2.0.4)\n",
      "Requirement already satisfied: certifi>=2017.4.17 in c:\\programdata\\anaconda3\\lib\\site-packages (from requests->webdriver-manager) (2021.10.8)\n",
      "Requirement already satisfied: urllib3<1.27,>=1.21.1 in c:\\programdata\\anaconda3\\lib\\site-packages (from requests->webdriver-manager) (1.26.7)\n",
      "Requirement already satisfied: idna<4,>=2.5 in c:\\programdata\\anaconda3\\lib\\site-packages (from requests->webdriver-manager) (3.2)\n"
     ]
    }
   ],
   "source": [
    "! pip3 install webdriver-manager"
   ]
  },
  {
   "cell_type": "code",
   "execution_count": 49,
   "id": "f3618aeb",
   "metadata": {},
   "outputs": [],
   "source": [
    "# Import Local Modules\n",
    "\n",
    "from selenium import webdriver\n",
    "from bs4 import BeautifulSoup\n",
    "from selenium.webdriver.chrome.service import Service\n",
    "from webdriver_manager.chrome import ChromeDriverManager\n",
    "import requests\n",
    "import time\n",
    "import re\n",
    "import datetime\n",
    "import pandas as pd\n",
    "import os\n",
    "from datetime import date"
   ]
  },
  {
   "cell_type": "code",
   "execution_count": 7,
   "id": "e03357ba",
   "metadata": {},
   "outputs": [
    {
     "data": {
      "text/plain": [
       "'C:\\\\learnings\\\\Jupyter Path'"
      ]
     },
     "execution_count": 7,
     "metadata": {},
     "output_type": "execute_result"
    }
   ],
   "source": [
    "# Changing path of the working directory\n",
    "os.chdir(\"G:\\Public\\Innovation Hub\\Scripts\")   # Replace your desired path in-place of mentioned path\n",
    "\n",
    "# Check current working directory\n",
    "os.getcwd()"
   ]
  },
  {
   "cell_type": "code",
   "execution_count": 25,
   "id": "60cd34d0",
   "metadata": {},
   "outputs": [],
   "source": [
    "# Converting Excel into Pandas Dataframe\n",
    "read_excel = pd.read_excel(\"Test_Link_check.xlsx\", sheet_name=0 , header=None, index_col=None)\n",
    "df = pd.DataFrame(data=read_excel)\n",
    "\n",
    "#Get today's date\n",
    "today_date = datetime.date.today()"
   ]
  },
  {
   "cell_type": "code",
   "execution_count": 51,
   "id": "993b6aa0",
   "metadata": {},
   "outputs": [
    {
     "name": "stderr",
     "output_type": "stream",
     "text": [
      "\n",
      "\n",
      "====== WebDriver manager ======\n",
      "Current google-chrome version is 100.0.4896\n",
      "Get LATEST chromedriver version for 100.0.4896 google-chrome\n",
      "Driver [C:\\Users\\prasad.more\\.wdm\\drivers\\chromedriver\\win32\\100.0.4896.60\\chromedriver.exe] found in cache\n"
     ]
    }
   ],
   "source": [
    "\"\"\"Defining the Function\"\"\"\n",
    "\n",
    "# Creating a Headless browser\n",
    "option = webdriver.ChromeOptions()\n",
    "option.headless = True\n",
    "service = Service(ChromeDriverManager().install())\n",
    "\n",
    "def extract_product_count(url:str) -> list:\n",
    "    \"\"\"This function will extract product-counts from the websites mentioned in the Input Csv\n",
    "   \n",
    "    Argument: \n",
    "       url: str content\n",
    "       \n",
    "    Return:\n",
    "        response: list\n",
    "    \n",
    "    \"\"\"\n",
    "    \n",
    "    # Instance of webdrive (Interface of browser that enables controls of browsers)\n",
    "    \n",
    "    driver = webdriver.Chrome(service=service, options=option)\n",
    "    \n",
    "    driver.get(url)   \n",
    "\n",
    "    # Stabilize the webpage\n",
    "    time.sleep(6)    \n",
    "    page = driver.page_source\n",
    "        \n",
    "    # Exiting the webdriver\n",
    "    driver.quit() \n",
    "        \n",
    "    # Get the website's Static HTML DOM \n",
    "    soup = BeautifulSoup(page, 'html.parser')\n",
    "        \n",
    "    # Find the product count in the HTML DOM through X-path\n",
    "    get_text = soup.find('span', {'class': \"header-product-count\"})\n",
    "    \n",
    "    status = requests.head(url).status_code\n",
    "    \n",
    "    # Check the status of response\n",
    "    if status != 200 or status !=  201:\n",
    "        print(url + \" - Status: {} \".format(response.status_code))\n",
    "    \n",
    "    # Check if Product count available on website\n",
    "    if get_text is None:\n",
    "        return [url, \"Count Not Available on Website\", status]\n",
    "    \n",
    "    response = get_text.text\n",
    "    \n",
    "    # Remove parenthesis\n",
    "    trimed_response = re.sub(r'[()]', \"\", response) \n",
    "\n",
    "    # Convert the count into number and trim whitespaces\n",
    "    final_output = int(trimed_response.strip())\n",
    "\n",
    "    # Return urls and product count in list format\n",
    "    return [url, final_output, status]\n"
   ]
  },
  {
   "cell_type": "code",
   "execution_count": 52,
   "id": "b4eea9cf",
   "metadata": {},
   "outputs": [
    {
     "name": "stdout",
     "output_type": "stream",
     "text": [
      "[['https://www.landsend.com/shop/-/S-xez-y5c-xec', 2421, 200]]\n"
     ]
    }
   ],
   "source": [
    "# Empty array to store data\n",
    "data = []\n",
    "\n",
    "for i in df.index:\n",
    "    \"\"\"Iteration through working Urls and storing product counts of each\"\"\"\n",
    "    \n",
    "    url = df[0][i]\n",
    "        \n",
    "    product_count = extract_product_count(url)\n",
    "            \n",
    "    # Append output in list\n",
    "    data.append(product_count)\n",
    "\n",
    "print(data)"
   ]
  },
  {
   "cell_type": "code",
   "execution_count": 54,
   "id": "b3ddf151",
   "metadata": {},
   "outputs": [
    {
     "data": {
      "text/plain": [
       "'Check a excel file named \"Product_Count_Todays\\'s_Date\" generated in your working directory'"
      ]
     },
     "execution_count": 54,
     "metadata": {},
     "output_type": "execute_result"
    }
   ],
   "source": [
    "# Creating a Dataframe to structure data\n",
    "dataframe = pd.DataFrame(data = data, columns = [\"Urls\", \"Product Count\", \"Status\"])\n",
    "\n",
    "# Convert the output to excel\n",
    "dataframe.to_excel(\"Product_Count_{}.xlsx\".format(today_date), sheet_name=\"Data\" )\n",
    "\n",
    "\"\"\"Check a excel file named \"Product_Count_Todays's_Date\" generated in your working directory\"\"\""
   ]
  },
  {
   "cell_type": "code",
   "execution_count": 13,
   "id": "6c1ff9f8",
   "metadata": {},
   "outputs": [
    {
     "name": "stderr",
     "output_type": "stream",
     "text": [
      "Everything up-to-date\n"
     ]
    }
   ],
   "source": [
    "# Testing command "
   ]
  }
 ],
 "metadata": {
  "kernelspec": {
   "display_name": "Python 3 (ipykernel)",
   "language": "python",
   "name": "python3"
  },
  "language_info": {
   "codemirror_mode": {
    "name": "ipython",
    "version": 3
   },
   "file_extension": ".py",
   "mimetype": "text/x-python",
   "name": "python",
   "nbconvert_exporter": "python",
   "pygments_lexer": "ipython3",
   "version": "3.9.7"
  }
 },
 "nbformat": 4,
 "nbformat_minor": 5
}
